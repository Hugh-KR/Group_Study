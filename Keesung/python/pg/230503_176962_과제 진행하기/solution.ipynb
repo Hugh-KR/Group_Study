{
 "cells": [
  {
   "attachments": {},
   "cell_type": "markdown",
   "metadata": {},
   "source": [
    "# 과제 진행하기 (Lv 2)\n",
    "(https://school.programmers.co.kr/learn/courses/30/lessons/176962?language=python3)\n",
    "\n",
    "## 문제 설명\n",
    "과제를 받은 루는 다음과 같은 순서대로 과제를 하려고 계획을 세웠습니다.\n",
    "\n",
    "* 과제는 시작하기로 한 시각이 되면 시작합니다.\n",
    "* 새로운 과제를 시작할 시각이 되었을 때, 기존에 진행 중이던 과제가 있다면 진행 중이던 과제를 멈추고 새로운 과제를 시작합니다.\n",
    "* 진행중이던 과제를 끝냈을 때, 잠시 멈춘 과제가 있다면, 멈춰둔 과제를 이어서 진행합니다.\n",
    "    * 만약, 과제를 끝낸 시각에 새로 시작해야 되는 과제와 잠시 멈춰둔 과제가 모두 있다면, 새로 시작해야 하는 과제부터 진행합니다.\n",
    "* 멈춰둔 과제가 여러 개일 경우, 가장 최근에 멈춘 과제부터 시작합니다.\n",
    "  \n",
    "\n",
    "과제 계획을 담은 이차원 문자열 배열 plans가 매개변수로 주어질 때, 과제를 끝낸 순서대로 이름을 배열에 담아 return 하는 solution 함수를 완성해주세요.\n",
    "\n",
    "제한사항\n",
    "* 3 ≤ plans의 길이 ≤ 1,000\n",
    "    * plans의 원소는 [name, start, playtime]의 구조로 이루어져 있습니다.\n",
    "        * name : 과제의 이름을 의미합니다.\n",
    "            * 2 ≤ name의 길이 ≤ 10\n",
    "            * name은 알파벳 소문자로만 이루어져 있습니다.\n",
    "            * name이 중복되는 원소는 없습니다.\n",
    "        * start : 과제의 시작 시각을 나타냅니다.\n",
    "            * \"hh:mm\"의 형태로 \"00:00\" ~ \"23:59\" 사이의 시간값만 들어가 있습니다.\n",
    "            * 모든 과제의 시작 시각은 달라서 겹칠 일이 없습니다.\n",
    "            * 과제는 \"00:00\" ... \"23:59\" 순으로 시작하면 됩니다. 즉, 시와 분의 값이 작을수록 더 빨리 시작한 과제입니다.\n",
    "        * playtime : 과제를 마치는데 걸리는 시간을 의미하며, 단위는 분입니다.\n",
    "            * 1 ≤ playtime ≤ 100\n",
    "            * playtime은 0으로 시작하지 않습니다.\n",
    "        * 배열은 시간순으로 정렬되어 있지 않을 수 있습니다.\n",
    "* 진행중이던 과제가 끝나는 시각과 새로운 과제를 시작해야하는 시각이 같은 경우 진행중이던 과제는 끝난 것으로 판단합니다."
   ]
  },
  {
   "cell_type": "code",
   "execution_count": 1,
   "metadata": {},
   "outputs": [
    {
     "name": "stdout",
     "output_type": "stream",
     "text": [
      "[3, 2, 1]\n"
     ]
    }
   ],
   "source": [
    "def solution(plans):\n",
    "    stop = []    \n",
    "    answer = []\n",
    "    plans.sort(key = lambda x: x[1], reverse=True)\n",
    "    while len(plans) > 1:\n",
    "        name, start, playtime = plans.pop()\n",
    "        real_time = int(start.split(':')[0]) * 60 + int(start.split(':')[1]) + int(playtime)\n",
    "        next_time = plans[-1][1]\n",
    "        next_time = int(next_time.split(':')[0]) * 60 + int(next_time.split(':')[1])\n",
    "        if next_time >= real_time:\n",
    "            answer.append(name)\n",
    "            time = next_time - real_time\n",
    "            while stop:\n",
    "                st_name, st_time = stop.pop()\n",
    "                if time - st_time >= 0:\n",
    "                    answer.append(st_name)\n",
    "                    time = time - st_time\n",
    "                else:\n",
    "                    stop.append([st_name, st_time - time])\n",
    "                    break\n",
    "        else:\n",
    "            stop.append([name, real_time - next_time])\n",
    "    answer.append(plans[0][0])\n",
    "    for data in stop[-1::-1]:\n",
    "        answer.append(data[0])\n",
    "\n",
    "    return answer"
   ]
  },
  {
   "cell_type": "code",
   "execution_count": null,
   "metadata": {},
   "outputs": [],
   "source": []
  }
 ],
 "metadata": {
  "kernelspec": {
   "display_name": "base",
   "language": "python",
   "name": "python3"
  },
  "language_info": {
   "codemirror_mode": {
    "name": "ipython",
    "version": 3
   },
   "file_extension": ".py",
   "mimetype": "text/x-python",
   "name": "python",
   "nbconvert_exporter": "python",
   "pygments_lexer": "ipython3",
   "version": "3.9.12"
  },
  "orig_nbformat": 4
 },
 "nbformat": 4,
 "nbformat_minor": 2
}
