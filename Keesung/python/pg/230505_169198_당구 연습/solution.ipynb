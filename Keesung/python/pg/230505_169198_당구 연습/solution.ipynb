{
 "cells": [
  {
   "attachments": {},
   "cell_type": "markdown",
   "metadata": {},
   "source": [
    "https://school.programmers.co.kr/learn/courses/30/lessons/169198"
   ]
  },
  {
   "cell_type": "code",
   "execution_count": null,
   "metadata": {},
   "outputs": [],
   "source": [
    "def solution(m, n, startX, startY, balls):\n",
    "    max_val = 1e9\n",
    "    answer = []\n",
    "    for ball in balls:\n",
    "        result = []\n",
    "        endX, endY = ball\n",
    "        if endY == startY:\n",
    "            if endX < startX:\n",
    "                result.append((2 * m - startX - endX)**2)\n",
    "            else:\n",
    "                result.append((startX + endX)**2)\n",
    "        else:\n",
    "            tmp_val = (max(endY, startY) - min(endY, startY)) ** 2\n",
    "            # 남\n",
    "            result.append((endX+startX) ** 2 + tmp_val)\n",
    "            # 북 \n",
    "            result.append((2 * m-endX-startX)**2 + tmp_val)\n",
    "        if endX == startX:\n",
    "            if endY < startY:\n",
    "                result.append((2 * n - startY - endY)**2)\n",
    "            else:\n",
    "                result.append((startY + endY)**2)\n",
    "        else:\n",
    "            tmp_val = (max(endX, startX) - min(endX, startX)) ** 2\n",
    "            # 남\n",
    "            result.append((endY+startY)**2 + tmp_val)\n",
    "            result.append((2 * n-endY-startY)**2 + tmp_val)\n",
    "            # 북\n",
    "        answer.append(min(result))\n",
    "    return answer"
   ]
  }
 ],
 "metadata": {
  "language_info": {
   "name": "python"
  },
  "orig_nbformat": 4
 },
 "nbformat": 4,
 "nbformat_minor": 2
}
